{
  "cells": [
    {
      "cell_type": "markdown",
      "metadata": {
        "id": "ZdlUJVOKfzzF"
      },
      "source": [
        "# Diamond Company Analytics Challenge\n",
        "\n",
        "**Time:** 35 minutes\n",
        "\n",
        "**Scenario:** You are the new data analyst at a prestigious diamond company. The CEO has called an urgent meeting and needs answers to critical business questions about the inventory.\n",
        "\n",
        "**Your Mission:** Analyze the diamond inventory data and provide insights to guide strategic decisions."
      ]
    },
    {
      "cell_type": "code",
      "execution_count": null,
      "metadata": {
        "id": "9JvcjOSIfzzG"
      },
      "outputs": [],
      "source": [
        "import polars as pl\n",
        "\n",
        "# Load the diamonds dataset\n",
        "print(\"Loading diamonds dataset...\")\n",
        "df = pl.read_csv('https://raw.githubusercontent.com/pycaret/pycaret/master/datasets/diamond.csv')\n",
        "print(\"Dataset loaded successfully!\")"
      ]
    },
    {
      "cell_type": "markdown",
      "metadata": {
        "id": "8biIvoOEfzzH"
      },
      "source": [
        "## Section 1: Initial Inventory Assessment (5 minutes)\n",
        "\n",
        "The CEO walks in: \"Before we dive into specifics, I need to understand what we're working with. Give me the basics about our inventory database.\""
      ]
    },
    {
      "cell_type": "markdown",
      "metadata": {
        "id": "PmUfcEQafzzH"
      },
      "source": [
        "### Question 1: \"How extensive is our inventory database?\"\n",
        "\n",
        "The CEO needs to know the scale of data you're analyzing."
      ]
    },
    {
      "cell_type": "code",
      "execution_count": 3,
      "metadata": {
        "colab": {
          "base_uri": "https://localhost:8080/"
        },
        "id": "sBlljDRJfzzH",
        "outputId": "a05234ac-0318-4a92-e0f1-5b408f3ec073"
      },
      "outputs": [
        {
          "output_type": "stream",
          "name": "stdout",
          "text": [
            "Our inventory contains 6,000 diamonds with 8 attributes.\n"
          ]
        }
      ],
      "source": [
        "# Your code here:\n",
        "import polars as pl\n",
        "\n",
        "df = pl.read_csv('https://raw.githubusercontent.com/pycaret/pycaret/master/datasets/diamond.csv')\n",
        "\n",
        "num_rows, num_cols = df.shape\n",
        "print(f\"Our inventory contains {num_rows:,} diamonds with {num_cols} attributes.\")"
      ]
    },
    {
      "cell_type": "markdown",
      "metadata": {
        "id": "QbOQd5lOfzzH"
      },
      "source": [
        "### Question 2: \"What information do we track about each diamond?\"\n",
        "\n",
        "List all the characteristics we record."
      ]
    },
    {
      "cell_type": "code",
      "execution_count": 1,
      "metadata": {
        "colab": {
          "base_uri": "https://localhost:8080/"
        },
        "id": "CjO2ahn9fzzH",
        "outputId": "3fe1efe1-d288-4b88-93b7-b1bc6a54f5aa"
      },
      "outputs": [
        {
          "output_type": "stream",
          "name": "stdout",
          "text": [
            "We track the following information about each diamond:\n",
            "['Carat Weight', 'Cut', 'Color', 'Clarity', 'Polish', 'Symmetry', 'Report', 'Price']\n"
          ]
        }
      ],
      "source": [
        "# Your code here:\n",
        "import polars as pl\n",
        "\n",
        "df = pl.read_csv('https://raw.githubusercontent.com/pycaret/pycaret/master/datasets/diamond.csv')\n",
        "\n",
        "print(\"We track the following information about each diamond:\")\n",
        "print(df.columns)\n"
      ]
    },
    {
      "cell_type": "markdown",
      "metadata": {
        "id": "LBK8AU1IfzzH"
      },
      "source": [
        "### Question 3: \"When I look at one line in this database, what am I looking at?\"\n",
        "\n",
        "Explain in business terms: Each row represents one diamond in our inventory showing its size, quality, measurements, and price."
      ]
    },
    {
      "cell_type": "code",
      "source": [],
      "metadata": {
        "id": "_tfTvDlN_g4y"
      },
      "execution_count": null,
      "outputs": []
    },
    {
      "cell_type": "markdown",
      "metadata": {
        "id": "-ZIEG3OBfzzI"
      },
      "source": [
        "**Your answer:** Each row represents: one\n",
        " diamond in the inventory"
      ]
    },
    {
      "cell_type": "code",
      "source": [],
      "metadata": {
        "id": "NMS2QoE0_q7F"
      },
      "execution_count": null,
      "outputs": []
    },
    {
      "cell_type": "markdown",
      "metadata": {
        "id": "O4VO2QO4fzzI"
      },
      "source": [
        "## Section 2: Strategic Business Questions (20 minutes)\n",
        "\n",
        "The CEO continues: \"Now let's get to the important questions. Our board meeting is tomorrow and I need concrete numbers.\""
      ]
    },
    {
      "cell_type": "markdown",
      "metadata": {
        "id": "749UDWLPfzzI"
      },
      "source": [
        "### Question 4: \"We're considering expanding our storage facilities. How many total carats do we have in inventory? I need to know if our vaults can handle the weight.\"\n",
        "\n",
        "Think about what measurement would help answer this."
      ]
    },
    {
      "cell_type": "code",
      "execution_count": 5,
      "metadata": {
        "colab": {
          "base_uri": "https://localhost:8080/"
        },
        "id": "UiK1B2VgfzzI",
        "outputId": "80bdae8d-a994-4fdd-ef1f-ef8df9b43336"
      },
      "outputs": [
        {
          "output_type": "stream",
          "name": "stdout",
          "text": [
            "Our inventory contains a total of 8007.12 carats of diamonds.\n"
          ]
        }
      ],
      "source": [
        "# Your code here:\n",
        "# Your code here:\n",
        "import polars as pl\n",
        "\n",
        "df = pl.read_csv('https://raw.githubusercontent.com/pycaret/pycaret/master/datasets/diamond.csv')\n",
        "\n",
        "# Total carats in inventory\n",
        "total_carats = df[\"Carat Weight\"].sum()\n",
        "\n",
        "print(f\"Our inventory contains a total of {total_carats:.2f} carats of diamonds.\")\n"
      ]
    },
    {
      "cell_type": "markdown",
      "metadata": {
        "id": "0qYoKvPwfzzI"
      },
      "source": [
        "### Question 5: \"Our new marketing campaign claims we have 'the widest variety of cuts in the industry.' Can you verify this?\"\n",
        "\n",
        "The CEO wants to know about variety, not quantity."
      ]
    },
    {
      "cell_type": "code",
      "execution_count": 6,
      "metadata": {
        "colab": {
          "base_uri": "https://localhost:8080/"
        },
        "id": "BiBPKSdBfzzI",
        "outputId": "d3ad496b-e39a-485c-991a-5c5ae78133f6"
      },
      "outputs": [
        {
          "output_type": "stream",
          "name": "stdout",
          "text": [
            "We offer the following cut varieties: shape: (5,)\n",
            "Series: 'Cut' [str]\n",
            "[\n",
            "\t\"Very Good\"\n",
            "\t\"Good\"\n",
            "\t\"Fair\"\n",
            "\t\"Ideal\"\n",
            "\t\"Signature-Ideal\"\n",
            "]\n",
            "Total number of cut varieties: 5\n"
          ]
        }
      ],
      "source": [
        "# Your code here:\n",
        "import polars as pl\n",
        "\n",
        "df = pl.read_csv('https://raw.githubusercontent.com/pycaret/pycaret/master/datasets/diamond.csv')\n",
        "\n",
        "unique_cuts = df[\"Cut\"].unique()\n",
        "\n",
        "print(\"We offer the following cut varieties:\", unique_cuts)\n",
        "\n",
        "\n",
        "print(f\"Total number of cut varieties: {len(unique_cuts)}\")"
      ]
    },
    {
      "cell_type": "markdown",
      "metadata": {
        "id": "dxotH2UIfzzI"
      },
      "source": [
        "### Question 6: \"I'm meeting with our insurance company. They need to know our price exposure - what's our most and least valuable diamond?\""
      ]
    },
    {
      "cell_type": "code",
      "execution_count": 7,
      "metadata": {
        "colab": {
          "base_uri": "https://localhost:8080/"
        },
        "id": "qsdUPFQYfzzI",
        "outputId": "f44934ad-33fa-433e-83d3-bcc0b5da3e32"
      },
      "outputs": [
        {
          "output_type": "stream",
          "name": "stdout",
          "text": [
            "The least valuable diamond costs $2184.\n",
            "The most valuable diamond costs $101561.\n"
          ]
        }
      ],
      "source": [
        "# Your code here:\n",
        "import polars as pl\n",
        "\n",
        "df = pl.read_csv('https://raw.githubusercontent.com/pycaret/pycaret/master/datasets/diamond.csv')\n",
        "\n",
        "min_price = df[\"Price\"].min()\n",
        "max_price = df[\"Price\"].max()\n",
        "\n",
        "print(f\"The least valuable diamond costs ${min_price}.\")\n",
        "\n",
        "print(f\"The most valuable diamond costs ${max_price}.\")\n"
      ]
    },
    {
      "cell_type": "markdown",
      "metadata": {
        "id": "Z4NaYK0XfzzI"
      },
      "source": [
        "### Question 7: \"Which color grades should we focus on in our premium line? I need typical prices across our color spectrum.\"\n",
        "\n",
        "The CEO wants to understand pricing patterns."
      ]
    },
    {
      "cell_type": "code",
      "execution_count": 1,
      "metadata": {
        "colab": {
          "base_uri": "https://localhost:8080/"
        },
        "id": "AgFNB6cGfzzI",
        "outputId": "bde0541a-06e5-4cc5-f585-d1587bcba831"
      },
      "outputs": [
        {
          "output_type": "stream",
          "name": "stdout",
          "text": [
            "shape: (6, 2)\n",
            "┌───────┬───────────────┐\n",
            "│ Color ┆ Average Price │\n",
            "│ ---   ┆ ---           │\n",
            "│ str   ┆ f64           │\n",
            "╞═══════╪═══════════════╡\n",
            "│ D     ┆ 15255.783661  │\n",
            "│ E     ┆ 11539.190231  │\n",
            "│ F     ┆ 12712.241856  │\n",
            "│ G     ┆ 12520.050633  │\n",
            "│ H     ┆ 10487.347544  │\n",
            "│ I     ┆ 8989.636364   │\n",
            "└───────┴───────────────┘\n"
          ]
        }
      ],
      "source": [
        "# Your code here:\n",
        "import polars as pl\n",
        "\n",
        "df = pl.read_csv('https://raw.githubusercontent.com/pycaret/pycaret/master/datasets/diamond.csv')\n",
        "\n",
        "# Average price by color grade\n",
        "avg_price_by_color = (df.group_by(\"Color\").agg(pl.col(\"Price\").mean().alias(\"Average Price\")).sort(\"Color\"))\n",
        "\n",
        "print(avg_price_by_color)"
      ]
    },
    {
      "cell_type": "markdown",
      "metadata": {
        "id": "yIpSdjTyfzzI"
      },
      "source": [
        "**Reflection:** After analyzing by color, how has your view of the data changed? What does each row in your result represent now?"
      ]
    },
    {
      "cell_type": "markdown",
      "metadata": {
        "id": "6kXe6HLHfzzI"
      },
      "source": [
        "**Your answer:** New grain = In our result, each row now represents a color category, showing the average diamond price for that category."
      ]
    },
    {
      "cell_type": "markdown",
      "metadata": {
        "id": "X3_uINnufzzI"
      },
      "source": [
        "## Section 3: Advanced Strategic Analysis (10 minutes)\n",
        "\n",
        "The CEO leans forward: \"These next questions will shape our strategy for next year.\""
      ]
    },
    {
      "cell_type": "code",
      "source": [],
      "metadata": {
        "id": "O6bzsPdw-KJ3"
      },
      "execution_count": null,
      "outputs": []
    },
    {
      "cell_type": "markdown",
      "metadata": {
        "id": "GWPERoH0fzzJ"
      },
      "source": [
        "### Question 8: \"We're thinking of specializing in certain clarity grades. For our investor deck, I need a complete breakdown showing: how many diamonds we have in each clarity grade, their typical price, and the total carats we're holding for each grade.\""
      ]
    },
    {
      "cell_type": "code",
      "execution_count": 3,
      "metadata": {
        "colab": {
          "base_uri": "https://localhost:8080/"
        },
        "id": "-G_3URFRfzzJ",
        "outputId": "019fd4ba-52c7-4d7a-b3f6-8ed7e026a427"
      },
      "outputs": [
        {
          "output_type": "stream",
          "name": "stdout",
          "text": [
            "shape: (7, 4)\n",
            "┌─────────┬──────────────┬──────────────┬──────────────┐\n",
            "│ Clarity ┆ Num Diamonds ┆ Avg Price    ┆ Total Carats │\n",
            "│ ---     ┆ ---          ┆ ---          ┆ ---          │\n",
            "│ str     ┆ u32          ┆ f64          ┆ f64          │\n",
            "╞═════════╪══════════════╪══════════════╪══════════════╡\n",
            "│ FL      ┆ 4            ┆ 63776.0      ┆ 7.87         │\n",
            "│ IF      ┆ 219          ┆ 22105.844749 ┆ 316.0        │\n",
            "│ SI1     ┆ 2059         ┆ 8018.864012  ┆ 2563.69      │\n",
            "│ VS1     ┆ 1192         ┆ 13694.113255 ┆ 1682.74      │\n",
            "│ VS2     ┆ 1575         ┆ 11809.053333 ┆ 2170.81      │\n",
            "│ VVS1    ┆ 285          ┆ 16845.680702 ┆ 389.43       │\n",
            "│ VVS2    ┆ 666          ┆ 14142.177177 ┆ 876.58       │\n",
            "└─────────┴──────────────┴──────────────┴──────────────┘\n"
          ]
        },
        {
          "output_type": "stream",
          "name": "stderr",
          "text": [
            "/tmp/ipython-input-886701874.py:6: DeprecationWarning: `pl.count()` is deprecated. Please use `pl.len()` instead.\n",
            "  clarity_summary = (df.group_by(\"Clarity\").agg([pl.count().alias(\"Num Diamonds\"),pl.col(\"Price\").mean().alias(\"Avg Price\"),pl.col(\"Carat Weight\").sum().alias(\"Total Carats\")]).sort(\"Clarity\"))\n"
          ]
        }
      ],
      "source": [
        "# Your code here:\n",
        "import polars as pl\n",
        "\n",
        "df = pl.read_csv(\"https://raw.githubusercontent.com/pycaret/pycaret/master/datasets/diamond.csv\")\n",
        "\n",
        "clarity_summary = (df.group_by(\"Clarity\").agg([pl.count().alias(\"Num Diamonds\"),pl.col(\"Price\").mean().alias(\"Avg Price\"),pl.col(\"Carat Weight\").sum().alias(\"Total Carats\")]).sort(\"Clarity\"))\n",
        "\n",
        "print(clarity_summary)"
      ]
    },
    {
      "cell_type": "markdown",
      "metadata": {
        "id": "To0fo22mfzzJ"
      },
      "source": [
        "### Question 9: \"My luxury competitor claims they have the best prices for every cut-color combination. Show me our pricing structure across these combinations - I want to see where we're competitive.\""
      ]
    },
    {
      "cell_type": "code",
      "execution_count": 5,
      "metadata": {
        "colab": {
          "base_uri": "https://localhost:8080/"
        },
        "id": "5UEmMPHxfzzJ",
        "outputId": "797813c1-371e-48f4-b0e8-2f593eeb4f2a"
      },
      "outputs": [
        {
          "output_type": "stream",
          "name": "stdout",
          "text": [
            "shape: (30, 3)\n",
            "┌───────────┬───────┬──────────────┐\n",
            "│ Cut       ┆ Color ┆ Avg Price    │\n",
            "│ ---       ┆ ---   ┆ ---          │\n",
            "│ str       ┆ str   ┆ f64          │\n",
            "╞═══════════╪═══════╪══════════════╡\n",
            "│ Fair      ┆ D     ┆ 6058.25      │\n",
            "│ Fair      ┆ E     ┆ 5370.625     │\n",
            "│ Fair      ┆ F     ┆ 6063.625     │\n",
            "│ Fair      ┆ G     ┆ 7345.52381   │\n",
            "│ Fair      ┆ H     ┆ 5908.5       │\n",
            "│ …         ┆ …     ┆ …            │\n",
            "│ Very Good ┆ E     ┆ 12101.910217 │\n",
            "│ Very Good ┆ F     ┆ 12413.905495 │\n",
            "│ Very Good ┆ G     ┆ 12354.013841 │\n",
            "│ Very Good ┆ H     ┆ 10056.106132 │\n",
            "│ Very Good ┆ I     ┆ 8930.031332  │\n",
            "└───────────┴───────┴──────────────┘\n"
          ]
        }
      ],
      "source": [
        "# Your code here:\n",
        "import polars as pl\n",
        "\n",
        "df = pl.read_csv(\"https://raw.githubusercontent.com/pycaret/pycaret/master/datasets/diamond.csv\")\n",
        "\n",
        "cut_color_prices = (df.group_by([\"Cut\", \"Color\"]).agg(pl.col(\"Price\").mean().alias(\"Avg Price\")).sort([\"Cut\", \"Color\"]))\n",
        "\n",
        "print(cut_color_prices)"
      ]
    },
    {
      "cell_type": "markdown",
      "metadata": {
        "id": "CqyiQbZufzzJ"
      },
      "source": [
        "**Reflection:** How specific is your analysis now? What level of detail does each row represent?"
      ]
    },
    {
      "cell_type": "markdown",
      "metadata": {
        "id": "0AiVDgjpfzzJ"
      },
      "source": [
        "**Your answer:** New grain =  each row represents a specific cut and color combination, showing the average price for this segment."
      ]
    },
    {
      "cell_type": "markdown",
      "metadata": {
        "id": "lTeNByrFfzzJ"
      },
      "source": [
        "### Question 10: URGENT - \"Our biggest client is interested in purchasing entire inventory segments. They asked: 'Which color-cut combinations represent your highest total inventory value?' Show me the top 5 most valuable inventory segments by total worth, and include how many diamonds are in each segment.\"\n",
        "\n",
        "This is critical for tomorrow's negotiation."
      ]
    },
    {
      "cell_type": "code",
      "execution_count": 8,
      "metadata": {
        "colab": {
          "base_uri": "https://localhost:8080/"
        },
        "id": "kf-CUAy7fzzJ",
        "outputId": "35550a51-f5f0-4335-82b1-5e15f5d1c06e"
      },
      "outputs": [
        {
          "output_type": "stream",
          "name": "stdout",
          "text": [
            "shape: (5, 4)\n",
            "┌───────────┬───────┬──────────────┬─────────────┐\n",
            "│ Cut       ┆ Color ┆ Num Diamonds ┆ Total Value │\n",
            "│ ---       ┆ ---   ┆ ---          ┆ ---         │\n",
            "│ str       ┆ str   ┆ u32          ┆ i64         │\n",
            "╞═══════════╪═══════╪══════════════╪═════════════╡\n",
            "│ Ideal     ┆ G     ┆ 690          ┆ 9363514     │\n",
            "│ Very Good ┆ G     ┆ 578          ┆ 7140620     │\n",
            "│ Very Good ┆ F     ┆ 455          ┆ 5648327     │\n",
            "│ Ideal     ┆ F     ┆ 363          ┆ 5346782     │\n",
            "│ Ideal     ┆ H     ┆ 458          ┆ 5279687     │\n",
            "└───────────┴───────┴──────────────┴─────────────┘\n"
          ]
        },
        {
          "output_type": "stream",
          "name": "stderr",
          "text": [
            "/tmp/ipython-input-3611201732.py:6: DeprecationWarning: `pl.count()` is deprecated. Please use `pl.len()` instead.\n",
            "  top_segments = (df.group_by([\"Cut\", \"Color\"]).agg([pl.count().alias(\"Num Diamonds\"),pl.col(\"Price\").sum().alias(\"Total Value\")]).sort(\"Total Value\", descending=True).head(5))\n"
          ]
        }
      ],
      "source": [
        "# Your code here:\n",
        "import polars as pl\n",
        "\n",
        "df = pl.read_csv(\"https://raw.githubusercontent.com/pycaret/pycaret/master/datasets/diamond.csv\")\n",
        "\n",
        "top_segments = (df.group_by([\"Cut\", \"Color\"]).agg([pl.count().alias(\"Num Diamonds\"),pl.col(\"Price\").sum().alias(\"Total Value\")]).sort(\"Total Value\", descending=True).head(5))\n",
        "\n",
        "print(top_segments)"
      ]
    },
    {
      "cell_type": "markdown",
      "metadata": {
        "id": "t51SML0dfzzJ"
      },
      "source": [
        "## Debrief\n",
        "\n",
        "Congratulations! You've just completed your first day as the diamond company's data analyst.\n",
        "\n",
        "Remember:\n",
        "- CEOs speak in business language, not technical terms\n",
        "- Always understand what each row represents before analyzing\n",
        "- Business questions contain clues about which operations to use"
      ]
    }
  ],
  "metadata": {
    "kernelspec": {
      "display_name": "Python 3",
      "language": "python",
      "name": "python3"
    },
    "language_info": {
      "codemirror_mode": {
        "name": "ipython",
        "version": 3
      },
      "file_extension": ".py",
      "mimetype": "text/x-python",
      "name": "python",
      "nbconvert_exporter": "python",
      "pygments_lexer": "ipython3",
      "version": "3.12.0"
    },
    "colab": {
      "provenance": []
    }
  },
  "nbformat": 4,
  "nbformat_minor": 0
}